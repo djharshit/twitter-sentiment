{
 "cells": [
  {
   "cell_type": "markdown",
   "id": "77d01ca6",
   "metadata": {
    "papermill": {
     "duration": 0.008989,
     "end_time": "2023-02-06T14:51:32.204986",
     "exception": false,
     "start_time": "2023-02-06T14:51:32.195997",
     "status": "completed"
    },
    "tags": []
   },
   "source": [
    "# Sentiment Analysis Using Tweets"
   ]
  },
  {
   "cell_type": "code",
   "execution_count": 1,
   "id": "bb28661b",
   "metadata": {
    "execution": {
     "iopub.execute_input": "2023-02-06T14:51:32.230329Z",
     "iopub.status.busy": "2023-02-06T14:51:32.229881Z",
     "iopub.status.idle": "2023-02-06T14:51:32.756083Z",
     "shell.execute_reply": "2023-02-06T14:51:32.754687Z"
    },
    "papermill": {
     "duration": 0.546726,
     "end_time": "2023-02-06T14:51:32.759277",
     "exception": false,
     "start_time": "2023-02-06T14:51:32.212551",
     "status": "completed"
    },
    "scrolled": true,
    "tags": []
   },
   "outputs": [
    {
     "data": {
      "text/html": [
       "<div>\n",
       "<style scoped>\n",
       "    .dataframe tbody tr th:only-of-type {\n",
       "        vertical-align: middle;\n",
       "    }\n",
       "\n",
       "    .dataframe tbody tr th {\n",
       "        vertical-align: top;\n",
       "    }\n",
       "\n",
       "    .dataframe thead th {\n",
       "        text-align: right;\n",
       "    }\n",
       "</style>\n",
       "<table border=\"1\" class=\"dataframe\">\n",
       "  <thead>\n",
       "    <tr style=\"text-align: right;\">\n",
       "      <th></th>\n",
       "      <th>2401</th>\n",
       "      <th>Borderlands</th>\n",
       "      <th>Positive</th>\n",
       "      <th>im getting on borderlands and i will murder you all ,</th>\n",
       "    </tr>\n",
       "  </thead>\n",
       "  <tbody>\n",
       "    <tr>\n",
       "      <th>0</th>\n",
       "      <td>2401</td>\n",
       "      <td>Borderlands</td>\n",
       "      <td>Positive</td>\n",
       "      <td>I am coming to the borders and I will kill you...</td>\n",
       "    </tr>\n",
       "    <tr>\n",
       "      <th>1</th>\n",
       "      <td>2401</td>\n",
       "      <td>Borderlands</td>\n",
       "      <td>Positive</td>\n",
       "      <td>im getting on borderlands and i will kill you ...</td>\n",
       "    </tr>\n",
       "    <tr>\n",
       "      <th>2</th>\n",
       "      <td>2401</td>\n",
       "      <td>Borderlands</td>\n",
       "      <td>Positive</td>\n",
       "      <td>im coming on borderlands and i will murder you...</td>\n",
       "    </tr>\n",
       "    <tr>\n",
       "      <th>3</th>\n",
       "      <td>2401</td>\n",
       "      <td>Borderlands</td>\n",
       "      <td>Positive</td>\n",
       "      <td>im getting on borderlands 2 and i will murder ...</td>\n",
       "    </tr>\n",
       "    <tr>\n",
       "      <th>4</th>\n",
       "      <td>2401</td>\n",
       "      <td>Borderlands</td>\n",
       "      <td>Positive</td>\n",
       "      <td>im getting into borderlands and i can murder y...</td>\n",
       "    </tr>\n",
       "    <tr>\n",
       "      <th>...</th>\n",
       "      <td>...</td>\n",
       "      <td>...</td>\n",
       "      <td>...</td>\n",
       "      <td>...</td>\n",
       "    </tr>\n",
       "    <tr>\n",
       "      <th>95</th>\n",
       "      <td>2417</td>\n",
       "      <td>Borderlands</td>\n",
       "      <td>Negative</td>\n",
       "      <td>Grounded almost looked pretty cool even despit...</td>\n",
       "    </tr>\n",
       "    <tr>\n",
       "      <th>96</th>\n",
       "      <td>2417</td>\n",
       "      <td>Borderlands</td>\n",
       "      <td>Negative</td>\n",
       "      <td>Grounded looked cool despite the borderline un...</td>\n",
       "    </tr>\n",
       "    <tr>\n",
       "      <th>97</th>\n",
       "      <td>2417</td>\n",
       "      <td>Borderlands</td>\n",
       "      <td>Negative</td>\n",
       "      <td>Grosskreutz looked pretty cool, even despite t...</td>\n",
       "    </tr>\n",
       "    <tr>\n",
       "      <th>98</th>\n",
       "      <td>2417</td>\n",
       "      <td>Borderlands</td>\n",
       "      <td>Negative</td>\n",
       "      <td>Grounded almost looked pretty cool here despit...</td>\n",
       "    </tr>\n",
       "    <tr>\n",
       "      <th>99</th>\n",
       "      <td>2417</td>\n",
       "      <td>Borderlands</td>\n",
       "      <td>Negative</td>\n",
       "      <td>Deep Grounded almost looked pretty cool even d...</td>\n",
       "    </tr>\n",
       "  </tbody>\n",
       "</table>\n",
       "<p>100 rows × 4 columns</p>\n",
       "</div>"
      ],
      "text/plain": [
       "    2401  Borderlands  Positive  \\\n",
       "0   2401  Borderlands  Positive   \n",
       "1   2401  Borderlands  Positive   \n",
       "2   2401  Borderlands  Positive   \n",
       "3   2401  Borderlands  Positive   \n",
       "4   2401  Borderlands  Positive   \n",
       "..   ...          ...       ...   \n",
       "95  2417  Borderlands  Negative   \n",
       "96  2417  Borderlands  Negative   \n",
       "97  2417  Borderlands  Negative   \n",
       "98  2417  Borderlands  Negative   \n",
       "99  2417  Borderlands  Negative   \n",
       "\n",
       "   im getting on borderlands and i will murder you all ,  \n",
       "0   I am coming to the borders and I will kill you...     \n",
       "1   im getting on borderlands and i will kill you ...     \n",
       "2   im coming on borderlands and i will murder you...     \n",
       "3   im getting on borderlands 2 and i will murder ...     \n",
       "4   im getting into borderlands and i can murder y...     \n",
       "..                                                ...     \n",
       "95  Grounded almost looked pretty cool even despit...     \n",
       "96  Grounded looked cool despite the borderline un...     \n",
       "97  Grosskreutz looked pretty cool, even despite t...     \n",
       "98  Grounded almost looked pretty cool here despit...     \n",
       "99  Deep Grounded almost looked pretty cool even d...     \n",
       "\n",
       "[100 rows x 4 columns]"
      ]
     },
     "execution_count": 1,
     "metadata": {},
     "output_type": "execute_result"
    }
   ],
   "source": [
    "#Reading Data\n",
    "import numpy as np\n",
    "import pandas as pd\n",
    "df = pd.read_csv('/kaggle/input/twitter-entity-sentiment-analysis/twitter_training.csv').astype(str)\n",
    "df_test = pd.read_csv('/kaggle/input/twitter-entity-sentiment-analysis/twitter_validation.csv').astype(str)\n",
    "df.head(100)"
   ]
  },
  {
   "cell_type": "code",
   "execution_count": 2,
   "id": "7bcd2257",
   "metadata": {
    "execution": {
     "iopub.execute_input": "2023-02-06T14:51:32.776386Z",
     "iopub.status.busy": "2023-02-06T14:51:32.776002Z",
     "iopub.status.idle": "2023-02-06T14:51:32.789240Z",
     "shell.execute_reply": "2023-02-06T14:51:32.788026Z"
    },
    "papermill": {
     "duration": 0.024798,
     "end_time": "2023-02-06T14:51:32.791742",
     "exception": false,
     "start_time": "2023-02-06T14:51:32.766944",
     "status": "completed"
    },
    "tags": []
   },
   "outputs": [
    {
     "data": {
      "text/html": [
       "<div>\n",
       "<style scoped>\n",
       "    .dataframe tbody tr th:only-of-type {\n",
       "        vertical-align: middle;\n",
       "    }\n",
       "\n",
       "    .dataframe tbody tr th {\n",
       "        vertical-align: top;\n",
       "    }\n",
       "\n",
       "    .dataframe thead th {\n",
       "        text-align: right;\n",
       "    }\n",
       "</style>\n",
       "<table border=\"1\" class=\"dataframe\">\n",
       "  <thead>\n",
       "    <tr style=\"text-align: right;\">\n",
       "      <th></th>\n",
       "      <th>3364</th>\n",
       "      <th>Facebook</th>\n",
       "      <th>Irrelevant</th>\n",
       "      <th>I mentioned on Facebook that I was struggling for motivation to go for a run the other day, which has been translated by Tom’s great auntie as ‘Hayley can’t get out of bed’ and told to his grandma, who now thinks I’m a lazy, terrible person 🤣</th>\n",
       "    </tr>\n",
       "  </thead>\n",
       "  <tbody>\n",
       "    <tr>\n",
       "      <th>0</th>\n",
       "      <td>352</td>\n",
       "      <td>Amazon</td>\n",
       "      <td>Neutral</td>\n",
       "      <td>BBC News - Amazon boss Jeff Bezos rejects clai...</td>\n",
       "    </tr>\n",
       "    <tr>\n",
       "      <th>1</th>\n",
       "      <td>8312</td>\n",
       "      <td>Microsoft</td>\n",
       "      <td>Negative</td>\n",
       "      <td>@Microsoft Why do I pay for WORD when it funct...</td>\n",
       "    </tr>\n",
       "    <tr>\n",
       "      <th>2</th>\n",
       "      <td>4371</td>\n",
       "      <td>CS-GO</td>\n",
       "      <td>Negative</td>\n",
       "      <td>CSGO matchmaking is so full of closet hacking,...</td>\n",
       "    </tr>\n",
       "    <tr>\n",
       "      <th>3</th>\n",
       "      <td>4433</td>\n",
       "      <td>Google</td>\n",
       "      <td>Neutral</td>\n",
       "      <td>Now the President is slapping Americans in the...</td>\n",
       "    </tr>\n",
       "    <tr>\n",
       "      <th>4</th>\n",
       "      <td>6273</td>\n",
       "      <td>FIFA</td>\n",
       "      <td>Negative</td>\n",
       "      <td>Hi @EAHelp I’ve had Madeleine McCann in my cel...</td>\n",
       "    </tr>\n",
       "  </tbody>\n",
       "</table>\n",
       "</div>"
      ],
      "text/plain": [
       "   3364   Facebook Irrelevant  \\\n",
       "0   352     Amazon    Neutral   \n",
       "1  8312  Microsoft   Negative   \n",
       "2  4371      CS-GO   Negative   \n",
       "3  4433     Google    Neutral   \n",
       "4  6273       FIFA   Negative   \n",
       "\n",
       "  I mentioned on Facebook that I was struggling for motivation to go for a run the other day, which has been translated by Tom’s great auntie as ‘Hayley can’t get out of bed’ and told to his grandma, who now thinks I’m a lazy, terrible person 🤣  \n",
       "0  BBC News - Amazon boss Jeff Bezos rejects clai...                                                                                                                                                                                                  \n",
       "1  @Microsoft Why do I pay for WORD when it funct...                                                                                                                                                                                                  \n",
       "2  CSGO matchmaking is so full of closet hacking,...                                                                                                                                                                                                  \n",
       "3  Now the President is slapping Americans in the...                                                                                                                                                                                                  \n",
       "4  Hi @EAHelp I’ve had Madeleine McCann in my cel...                                                                                                                                                                                                  "
      ]
     },
     "execution_count": 2,
     "metadata": {},
     "output_type": "execute_result"
    }
   ],
   "source": [
    "df_test.head()"
   ]
  },
  {
   "cell_type": "code",
   "execution_count": 3,
   "id": "2ba6d285",
   "metadata": {
    "execution": {
     "iopub.execute_input": "2023-02-06T14:51:32.809390Z",
     "iopub.status.busy": "2023-02-06T14:51:32.809010Z",
     "iopub.status.idle": "2023-02-06T14:51:32.816306Z",
     "shell.execute_reply": "2023-02-06T14:51:32.815062Z"
    },
    "papermill": {
     "duration": 0.019226,
     "end_time": "2023-02-06T14:51:32.818869",
     "exception": false,
     "start_time": "2023-02-06T14:51:32.799643",
     "status": "completed"
    },
    "tags": []
   },
   "outputs": [
    {
     "data": {
      "text/plain": [
       "(74681, 4)"
      ]
     },
     "execution_count": 3,
     "metadata": {},
     "output_type": "execute_result"
    }
   ],
   "source": [
    "df.shape"
   ]
  },
  {
   "cell_type": "code",
   "execution_count": 4,
   "id": "bfacd898",
   "metadata": {
    "execution": {
     "iopub.execute_input": "2023-02-06T14:51:32.836671Z",
     "iopub.status.busy": "2023-02-06T14:51:32.836291Z",
     "iopub.status.idle": "2023-02-06T14:51:32.845207Z",
     "shell.execute_reply": "2023-02-06T14:51:32.843559Z"
    },
    "papermill": {
     "duration": 0.021125,
     "end_time": "2023-02-06T14:51:32.848074",
     "exception": false,
     "start_time": "2023-02-06T14:51:32.826949",
     "status": "completed"
    },
    "tags": []
   },
   "outputs": [
    {
     "data": {
      "text/plain": [
       "(999, 4)"
      ]
     },
     "execution_count": 4,
     "metadata": {},
     "output_type": "execute_result"
    }
   ],
   "source": [
    "df_test.shape"
   ]
  },
  {
   "cell_type": "code",
   "execution_count": 5,
   "id": "8dc42f47",
   "metadata": {
    "execution": {
     "iopub.execute_input": "2023-02-06T14:51:32.866662Z",
     "iopub.status.busy": "2023-02-06T14:51:32.865609Z",
     "iopub.status.idle": "2023-02-06T14:51:32.915177Z",
     "shell.execute_reply": "2023-02-06T14:51:32.913970Z"
    },
    "papermill": {
     "duration": 0.061726,
     "end_time": "2023-02-06T14:51:32.918079",
     "exception": false,
     "start_time": "2023-02-06T14:51:32.856353",
     "status": "completed"
    },
    "tags": []
   },
   "outputs": [],
   "source": [
    "# Data Cleaning\n",
    "df_test = df_test.rename(columns={\"I mentioned on Facebook that I was struggling for motivation to go for a run the other day, which has been translated by Tom’s great auntie as ‘Hayley can’t get out of bed’ and told to his grandma, who now thinks I’m a lazy, terrible person 🤣\": \"Tweets\", \"Irrelevant\":\"Result\"})\n",
    "df = df.rename(columns={'Positive':'Result','im getting on borderlands and i will murder you all ,':'Tweets'})\n",
    "df_test = df_test.drop(columns=['3364', 'Facebook'])\n",
    "df = df.drop(columns=['2401','Borderlands'])"
   ]
  },
  {
   "cell_type": "code",
   "execution_count": 6,
   "id": "f044e1e6",
   "metadata": {
    "execution": {
     "iopub.execute_input": "2023-02-06T14:51:32.936155Z",
     "iopub.status.busy": "2023-02-06T14:51:32.935712Z",
     "iopub.status.idle": "2023-02-06T14:51:32.948043Z",
     "shell.execute_reply": "2023-02-06T14:51:32.946783Z"
    },
    "papermill": {
     "duration": 0.023893,
     "end_time": "2023-02-06T14:51:32.950378",
     "exception": false,
     "start_time": "2023-02-06T14:51:32.926485",
     "status": "completed"
    },
    "tags": []
   },
   "outputs": [
    {
     "data": {
      "text/html": [
       "<div>\n",
       "<style scoped>\n",
       "    .dataframe tbody tr th:only-of-type {\n",
       "        vertical-align: middle;\n",
       "    }\n",
       "\n",
       "    .dataframe tbody tr th {\n",
       "        vertical-align: top;\n",
       "    }\n",
       "\n",
       "    .dataframe thead th {\n",
       "        text-align: right;\n",
       "    }\n",
       "</style>\n",
       "<table border=\"1\" class=\"dataframe\">\n",
       "  <thead>\n",
       "    <tr style=\"text-align: right;\">\n",
       "      <th></th>\n",
       "      <th>Result</th>\n",
       "      <th>Tweets</th>\n",
       "    </tr>\n",
       "  </thead>\n",
       "  <tbody>\n",
       "    <tr>\n",
       "      <th>808</th>\n",
       "      <td>Irrelevant</td>\n",
       "      <td>This is @xMusti070 and he is trolling people a...</td>\n",
       "    </tr>\n",
       "    <tr>\n",
       "      <th>516</th>\n",
       "      <td>Negative</td>\n",
       "      <td>FIFA 20 is honestly the biggest pile of shit e...</td>\n",
       "    </tr>\n",
       "    <tr>\n",
       "      <th>328</th>\n",
       "      <td>Negative</td>\n",
       "      <td>@GhostRecon #GhostReconBreakpoint just took do...</td>\n",
       "    </tr>\n",
       "    <tr>\n",
       "      <th>875</th>\n",
       "      <td>Irrelevant</td>\n",
       "      <td>This guy is one of the best content  creators ...</td>\n",
       "    </tr>\n",
       "  </tbody>\n",
       "</table>\n",
       "</div>"
      ],
      "text/plain": [
       "         Result                                             Tweets\n",
       "808  Irrelevant  This is @xMusti070 and he is trolling people a...\n",
       "516    Negative  FIFA 20 is honestly the biggest pile of shit e...\n",
       "328    Negative  @GhostRecon #GhostReconBreakpoint just took do...\n",
       "875  Irrelevant  This guy is one of the best content  creators ..."
      ]
     },
     "execution_count": 6,
     "metadata": {},
     "output_type": "execute_result"
    }
   ],
   "source": [
    "df_test.sample(4)"
   ]
  },
  {
   "cell_type": "code",
   "execution_count": 7,
   "id": "d84b3648",
   "metadata": {
    "execution": {
     "iopub.execute_input": "2023-02-06T14:51:32.969578Z",
     "iopub.status.busy": "2023-02-06T14:51:32.969090Z",
     "iopub.status.idle": "2023-02-06T14:51:32.982062Z",
     "shell.execute_reply": "2023-02-06T14:51:32.981158Z"
    },
    "papermill": {
     "duration": 0.024654,
     "end_time": "2023-02-06T14:51:32.984277",
     "exception": false,
     "start_time": "2023-02-06T14:51:32.959623",
     "status": "completed"
    },
    "tags": []
   },
   "outputs": [
    {
     "data": {
      "text/html": [
       "<div>\n",
       "<style scoped>\n",
       "    .dataframe tbody tr th:only-of-type {\n",
       "        vertical-align: middle;\n",
       "    }\n",
       "\n",
       "    .dataframe tbody tr th {\n",
       "        vertical-align: top;\n",
       "    }\n",
       "\n",
       "    .dataframe thead th {\n",
       "        text-align: right;\n",
       "    }\n",
       "</style>\n",
       "<table border=\"1\" class=\"dataframe\">\n",
       "  <thead>\n",
       "    <tr style=\"text-align: right;\">\n",
       "      <th></th>\n",
       "      <th>Result</th>\n",
       "      <th>Tweets</th>\n",
       "    </tr>\n",
       "  </thead>\n",
       "  <tbody>\n",
       "    <tr>\n",
       "      <th>62427</th>\n",
       "      <td>Irrelevant</td>\n",
       "      <td>Gta My online people are crazy.</td>\n",
       "    </tr>\n",
       "    <tr>\n",
       "      <th>1892</th>\n",
       "      <td>Neutral</td>\n",
       "      <td>Mayas death just the cheapest solution for Ava...</td>\n",
       "    </tr>\n",
       "    <tr>\n",
       "      <th>54037</th>\n",
       "      <td>Negative</td>\n",
       "      <td>Why I'm So Angry at the Call of the Duty Robot</td>\n",
       "    </tr>\n",
       "    <tr>\n",
       "      <th>69219</th>\n",
       "      <td>Irrelevant</td>\n",
       "      <td>I @zlodziey1</td>\n",
       "    </tr>\n",
       "  </tbody>\n",
       "</table>\n",
       "</div>"
      ],
      "text/plain": [
       "           Result                                             Tweets\n",
       "62427  Irrelevant                    Gta My online people are crazy.\n",
       "1892      Neutral  Mayas death just the cheapest solution for Ava...\n",
       "54037    Negative     Why I'm So Angry at the Call of the Duty Robot\n",
       "69219  Irrelevant                                       I @zlodziey1"
      ]
     },
     "execution_count": 7,
     "metadata": {},
     "output_type": "execute_result"
    }
   ],
   "source": [
    "df.sample(4)"
   ]
  },
  {
   "cell_type": "code",
   "execution_count": 8,
   "id": "0b7c3bed",
   "metadata": {
    "execution": {
     "iopub.execute_input": "2023-02-06T14:51:33.003049Z",
     "iopub.status.busy": "2023-02-06T14:51:33.002447Z",
     "iopub.status.idle": "2023-02-06T14:51:33.036039Z",
     "shell.execute_reply": "2023-02-06T14:51:33.034550Z"
    },
    "papermill": {
     "duration": 0.046191,
     "end_time": "2023-02-06T14:51:33.038918",
     "exception": false,
     "start_time": "2023-02-06T14:51:32.992727",
     "status": "completed"
    },
    "tags": []
   },
   "outputs": [
    {
     "data": {
      "text/plain": [
       "Negative    22542\n",
       "Positive    20831\n",
       "Neutral     18318\n",
       "Name: Result, dtype: int64"
      ]
     },
     "execution_count": 8,
     "metadata": {},
     "output_type": "execute_result"
    }
   ],
   "source": [
    "# Dropping rows having irrelavent values\n",
    "\n",
    "df_irr = df.loc[df[\"Result\"]=='Irrelevant']\n",
    "irr_index = df_irr.index\n",
    "df = df.drop(labels=irr_index, axis=0)\n",
    "df[\"Result\"].value_counts()"
   ]
  },
  {
   "cell_type": "code",
   "execution_count": 9,
   "id": "26e51222",
   "metadata": {
    "execution": {
     "iopub.execute_input": "2023-02-06T14:51:33.058421Z",
     "iopub.status.busy": "2023-02-06T14:51:33.057675Z",
     "iopub.status.idle": "2023-02-06T14:51:33.069998Z",
     "shell.execute_reply": "2023-02-06T14:51:33.068657Z"
    },
    "papermill": {
     "duration": 0.024647,
     "end_time": "2023-02-06T14:51:33.072281",
     "exception": false,
     "start_time": "2023-02-06T14:51:33.047634",
     "status": "completed"
    },
    "tags": []
   },
   "outputs": [
    {
     "data": {
      "text/plain": [
       "Neutral     285\n",
       "Positive    277\n",
       "Negative    266\n",
       "Name: Result, dtype: int64"
      ]
     },
     "execution_count": 9,
     "metadata": {},
     "output_type": "execute_result"
    }
   ],
   "source": [
    "# Dropping rows having irrelavent values for testing dataset\n",
    "\n",
    "df_test_irr = df_test.loc[df_test[\"Result\"]=='Irrelevant']\n",
    "test_irr_index = df_test_irr.index\n",
    "df_test = df_test.drop(labels=test_irr_index, axis=0)\n",
    "df_test[\"Result\"].value_counts()"
   ]
  },
  {
   "cell_type": "code",
   "execution_count": 10,
   "id": "8ae263c5",
   "metadata": {
    "execution": {
     "iopub.execute_input": "2023-02-06T14:51:33.091861Z",
     "iopub.status.busy": "2023-02-06T14:51:33.091376Z",
     "iopub.status.idle": "2023-02-06T14:51:34.227470Z",
     "shell.execute_reply": "2023-02-06T14:51:34.225637Z"
    },
    "papermill": {
     "duration": 1.150263,
     "end_time": "2023-02-06T14:51:34.231211",
     "exception": false,
     "start_time": "2023-02-06T14:51:33.080948",
     "status": "completed"
    },
    "tags": []
   },
   "outputs": [],
   "source": [
    "from sklearn.preprocessing import LabelEncoder\n",
    "encoder = LabelEncoder()\n",
    "df['Result']= encoder.fit_transform(df['Result'])\n",
    "# For Testing Dataset\n",
    "df_test['Result']= encoder.fit_transform(df_test['Result'])\n",
    "# 1 = Neutral, 2= Positive, 0=Negative"
   ]
  },
  {
   "cell_type": "code",
   "execution_count": 11,
   "id": "016cdcca",
   "metadata": {
    "execution": {
     "iopub.execute_input": "2023-02-06T14:51:34.253234Z",
     "iopub.status.busy": "2023-02-06T14:51:34.252684Z",
     "iopub.status.idle": "2023-02-06T14:51:34.268912Z",
     "shell.execute_reply": "2023-02-06T14:51:34.267630Z"
    },
    "papermill": {
     "duration": 0.031673,
     "end_time": "2023-02-06T14:51:34.273336",
     "exception": false,
     "start_time": "2023-02-06T14:51:34.241663",
     "status": "completed"
    },
    "tags": []
   },
   "outputs": [
    {
     "data": {
      "text/html": [
       "<div>\n",
       "<style scoped>\n",
       "    .dataframe tbody tr th:only-of-type {\n",
       "        vertical-align: middle;\n",
       "    }\n",
       "\n",
       "    .dataframe tbody tr th {\n",
       "        vertical-align: top;\n",
       "    }\n",
       "\n",
       "    .dataframe thead th {\n",
       "        text-align: right;\n",
       "    }\n",
       "</style>\n",
       "<table border=\"1\" class=\"dataframe\">\n",
       "  <thead>\n",
       "    <tr style=\"text-align: right;\">\n",
       "      <th></th>\n",
       "      <th>Result</th>\n",
       "      <th>Tweets</th>\n",
       "    </tr>\n",
       "  </thead>\n",
       "  <tbody>\n",
       "    <tr>\n",
       "      <th>0</th>\n",
       "      <td>1</td>\n",
       "      <td>BBC News - Amazon boss Jeff Bezos rejects clai...</td>\n",
       "    </tr>\n",
       "    <tr>\n",
       "      <th>1</th>\n",
       "      <td>0</td>\n",
       "      <td>@Microsoft Why do I pay for WORD when it funct...</td>\n",
       "    </tr>\n",
       "    <tr>\n",
       "      <th>2</th>\n",
       "      <td>0</td>\n",
       "      <td>CSGO matchmaking is so full of closet hacking,...</td>\n",
       "    </tr>\n",
       "    <tr>\n",
       "      <th>3</th>\n",
       "      <td>1</td>\n",
       "      <td>Now the President is slapping Americans in the...</td>\n",
       "    </tr>\n",
       "    <tr>\n",
       "      <th>4</th>\n",
       "      <td>0</td>\n",
       "      <td>Hi @EAHelp I’ve had Madeleine McCann in my cel...</td>\n",
       "    </tr>\n",
       "    <tr>\n",
       "      <th>...</th>\n",
       "      <td>...</td>\n",
       "      <td>...</td>\n",
       "    </tr>\n",
       "    <tr>\n",
       "      <th>234</th>\n",
       "      <td>0</td>\n",
       "      <td>@AndroidDev I've just noticed an issue while u...</td>\n",
       "    </tr>\n",
       "    <tr>\n",
       "      <th>235</th>\n",
       "      <td>1</td>\n",
       "      <td>@GhostRecon so far playing the new update, the...</td>\n",
       "    </tr>\n",
       "    <tr>\n",
       "      <th>236</th>\n",
       "      <td>1</td>\n",
       "      <td>Johnson &amp; Johnson Medical Devices Companies is...</td>\n",
       "    </tr>\n",
       "    <tr>\n",
       "      <th>237</th>\n",
       "      <td>2</td>\n",
       "      <td>This skin for Revenant looks dope!! greasygame...</td>\n",
       "    </tr>\n",
       "    <tr>\n",
       "      <th>238</th>\n",
       "      <td>0</td>\n",
       "      <td>@EAMaddenNFL when I first pre ordered it said ...</td>\n",
       "    </tr>\n",
       "  </tbody>\n",
       "</table>\n",
       "<p>200 rows × 2 columns</p>\n",
       "</div>"
      ],
      "text/plain": [
       "     Result                                             Tweets\n",
       "0         1  BBC News - Amazon boss Jeff Bezos rejects clai...\n",
       "1         0  @Microsoft Why do I pay for WORD when it funct...\n",
       "2         0  CSGO matchmaking is so full of closet hacking,...\n",
       "3         1  Now the President is slapping Americans in the...\n",
       "4         0  Hi @EAHelp I’ve had Madeleine McCann in my cel...\n",
       "..      ...                                                ...\n",
       "234       0  @AndroidDev I've just noticed an issue while u...\n",
       "235       1  @GhostRecon so far playing the new update, the...\n",
       "236       1  Johnson & Johnson Medical Devices Companies is...\n",
       "237       2  This skin for Revenant looks dope!! greasygame...\n",
       "238       0  @EAMaddenNFL when I first pre ordered it said ...\n",
       "\n",
       "[200 rows x 2 columns]"
      ]
     },
     "execution_count": 11,
     "metadata": {},
     "output_type": "execute_result"
    }
   ],
   "source": [
    "df_test.head(200)"
   ]
  },
  {
   "cell_type": "code",
   "execution_count": 12,
   "id": "6d4889d8",
   "metadata": {
    "execution": {
     "iopub.execute_input": "2023-02-06T14:51:34.297386Z",
     "iopub.status.busy": "2023-02-06T14:51:34.296076Z",
     "iopub.status.idle": "2023-02-06T14:51:34.307848Z",
     "shell.execute_reply": "2023-02-06T14:51:34.306532Z"
    },
    "papermill": {
     "duration": 0.026596,
     "end_time": "2023-02-06T14:51:34.310886",
     "exception": false,
     "start_time": "2023-02-06T14:51:34.284290",
     "status": "completed"
    },
    "tags": []
   },
   "outputs": [
    {
     "data": {
      "text/html": [
       "<div>\n",
       "<style scoped>\n",
       "    .dataframe tbody tr th:only-of-type {\n",
       "        vertical-align: middle;\n",
       "    }\n",
       "\n",
       "    .dataframe tbody tr th {\n",
       "        vertical-align: top;\n",
       "    }\n",
       "\n",
       "    .dataframe thead th {\n",
       "        text-align: right;\n",
       "    }\n",
       "</style>\n",
       "<table border=\"1\" class=\"dataframe\">\n",
       "  <thead>\n",
       "    <tr style=\"text-align: right;\">\n",
       "      <th></th>\n",
       "      <th>Result</th>\n",
       "      <th>Tweets</th>\n",
       "    </tr>\n",
       "  </thead>\n",
       "  <tbody>\n",
       "    <tr>\n",
       "      <th>0</th>\n",
       "      <td>2</td>\n",
       "      <td>I am coming to the borders and I will kill you...</td>\n",
       "    </tr>\n",
       "    <tr>\n",
       "      <th>1</th>\n",
       "      <td>2</td>\n",
       "      <td>im getting on borderlands and i will kill you ...</td>\n",
       "    </tr>\n",
       "    <tr>\n",
       "      <th>2</th>\n",
       "      <td>2</td>\n",
       "      <td>im coming on borderlands and i will murder you...</td>\n",
       "    </tr>\n",
       "    <tr>\n",
       "      <th>3</th>\n",
       "      <td>2</td>\n",
       "      <td>im getting on borderlands 2 and i will murder ...</td>\n",
       "    </tr>\n",
       "    <tr>\n",
       "      <th>4</th>\n",
       "      <td>2</td>\n",
       "      <td>im getting into borderlands and i can murder y...</td>\n",
       "    </tr>\n",
       "  </tbody>\n",
       "</table>\n",
       "</div>"
      ],
      "text/plain": [
       "   Result                                             Tweets\n",
       "0       2  I am coming to the borders and I will kill you...\n",
       "1       2  im getting on borderlands and i will kill you ...\n",
       "2       2  im coming on borderlands and i will murder you...\n",
       "3       2  im getting on borderlands 2 and i will murder ...\n",
       "4       2  im getting into borderlands and i can murder y..."
      ]
     },
     "execution_count": 12,
     "metadata": {},
     "output_type": "execute_result"
    }
   ],
   "source": [
    "df.head()"
   ]
  },
  {
   "cell_type": "code",
   "execution_count": 13,
   "id": "7a8902f4",
   "metadata": {
    "collapsed": true,
    "execution": {
     "iopub.execute_input": "2023-02-06T14:51:34.334321Z",
     "iopub.status.busy": "2023-02-06T14:51:34.333460Z",
     "iopub.status.idle": "2023-02-06T14:52:07.474837Z",
     "shell.execute_reply": "2023-02-06T14:52:07.473363Z"
    },
    "jupyter": {
     "outputs_hidden": true
    },
    "papermill": {
     "duration": 33.15665,
     "end_time": "2023-02-06T14:52:07.477832",
     "exception": false,
     "start_time": "2023-02-06T14:51:34.321182",
     "status": "completed"
    },
    "tags": []
   },
   "outputs": [
    {
     "name": "stdout",
     "output_type": "stream",
     "text": [
      "Requirement already satisfied: seaborn in /opt/conda/lib/python3.7/site-packages (0.11.2)\r\n",
      "Requirement already satisfied: scipy>=1.0 in /opt/conda/lib/python3.7/site-packages (from seaborn) (1.7.3)\r\n",
      "Requirement already satisfied: matplotlib>=2.2 in /opt/conda/lib/python3.7/site-packages (from seaborn) (3.5.2)\r\n",
      "Requirement already satisfied: numpy>=1.15 in /opt/conda/lib/python3.7/site-packages (from seaborn) (1.21.6)\r\n",
      "Requirement already satisfied: pandas>=0.23 in /opt/conda/lib/python3.7/site-packages (from seaborn) (1.3.5)\r\n",
      "Requirement already satisfied: pillow>=6.2.0 in /opt/conda/lib/python3.7/site-packages (from matplotlib>=2.2->seaborn) (9.1.1)\r\n",
      "Requirement already satisfied: pyparsing>=2.2.1 in /opt/conda/lib/python3.7/site-packages (from matplotlib>=2.2->seaborn) (3.0.9)\r\n",
      "Requirement already satisfied: fonttools>=4.22.0 in /opt/conda/lib/python3.7/site-packages (from matplotlib>=2.2->seaborn) (4.33.3)\r\n",
      "Requirement already satisfied: packaging>=20.0 in /opt/conda/lib/python3.7/site-packages (from matplotlib>=2.2->seaborn) (23.0)\r\n",
      "Requirement already satisfied: kiwisolver>=1.0.1 in /opt/conda/lib/python3.7/site-packages (from matplotlib>=2.2->seaborn) (1.4.3)\r\n",
      "Requirement already satisfied: cycler>=0.10 in /opt/conda/lib/python3.7/site-packages (from matplotlib>=2.2->seaborn) (0.11.0)\r\n",
      "Requirement already satisfied: python-dateutil>=2.7 in /opt/conda/lib/python3.7/site-packages (from matplotlib>=2.2->seaborn) (2.8.2)\r\n",
      "Requirement already satisfied: pytz>=2017.3 in /opt/conda/lib/python3.7/site-packages (from pandas>=0.23->seaborn) (2022.1)\r\n",
      "Requirement already satisfied: typing-extensions in /opt/conda/lib/python3.7/site-packages (from kiwisolver>=1.0.1->matplotlib>=2.2->seaborn) (4.1.1)\r\n",
      "Requirement already satisfied: six>=1.5 in /opt/conda/lib/python3.7/site-packages (from python-dateutil>=2.7->matplotlib>=2.2->seaborn) (1.15.0)\r\n",
      "\u001b[33mWARNING: Running pip as the 'root' user can result in broken permissions and conflicting behaviour with the system package manager. It is recommended to use a virtual environment instead: https://pip.pypa.io/warnings/venv\u001b[0m\u001b[33m\r\n",
      "\u001b[0m\u001b[33mWARNING: There was an error checking the latest version of pip.\u001b[0m\u001b[33m\r\n",
      "\u001b[0m"
     ]
    }
   ],
   "source": [
    "!pip install seaborn"
   ]
  },
  {
   "cell_type": "code",
   "execution_count": 14,
   "id": "3d8d5f68",
   "metadata": {
    "execution": {
     "iopub.execute_input": "2023-02-06T14:52:07.499579Z",
     "iopub.status.busy": "2023-02-06T14:52:07.499149Z",
     "iopub.status.idle": "2023-02-06T14:52:08.078830Z",
     "shell.execute_reply": "2023-02-06T14:52:08.077122Z"
    },
    "papermill": {
     "duration": 0.596045,
     "end_time": "2023-02-06T14:52:08.083662",
     "exception": false,
     "start_time": "2023-02-06T14:52:07.487617",
     "status": "completed"
    },
    "tags": []
   },
   "outputs": [
    {
     "data": {
      "image/png": "[encoded data removed]",
      "text/plain": [
       "<Figure size 432x288 with 1 Axes>"
      ]
     },
     "metadata": {},
     "output_type": "display_data"
    },
    {
     "data": {
      "image/png": "[encoded data removed]",
      "text/plain": [
       "<Figure size 432x288 with 1 Axes>"
      ]
     },
     "metadata": {},
     "output_type": "display_data"
    }
   ],
   "source": [
    "# visualizing the data\n",
    "import matplotlib.pyplot as plt\n",
    "import seaborn as sns\n",
    "sns.set_theme(style=\"whitegrid\")\n",
    "sns.countplot(x=df[\"Result\"])\n",
    "plt.suptitle(\"Training Dataset\")\n",
    "plt.show()\n",
    "plt.pie(df['Result'].value_counts(), labels = ['Negative', 'Positive', 'Neutral' ])\n",
    "plt.title(\"Training Dataset\")\n",
    "plt.show()"
   ]
  },
  {
   "cell_type": "code",
   "execution_count": 15,
   "id": "662b04c2",
   "metadata": {
    "execution": {
     "iopub.execute_input": "2023-02-06T14:52:08.144631Z",
     "iopub.status.busy": "2023-02-06T14:52:08.143077Z",
     "iopub.status.idle": "2023-02-06T14:52:08.444486Z",
     "shell.execute_reply": "2023-02-06T14:52:08.442487Z"
    },
    "papermill": {
     "duration": 0.338259,
     "end_time": "2023-02-06T14:52:08.449081",
     "exception": false,
     "start_time": "2023-02-06T14:52:08.110822",
     "status": "completed"
    },
    "tags": []
   },
   "outputs": [
    {
     "data": {
      "image/png": "[encoded data removed]",
      "text/plain": [
       "<Figure size 432x288 with 1 Axes>"
      ]
     },
     "metadata": {},
     "output_type": "display_data"
    },
    {
     "data": {
      "image/png": "[encoded data removed]",
      "text/plain": [
       "<Figure size 432x288 with 1 Axes>"
      ]
     },
     "metadata": {},
     "output_type": "display_data"
    }
   ],
   "source": [
    "sns.set_style(\"darkgrid\")\n",
    "sns.countplot(x=df_test[\"Result\"])\n",
    "plt.suptitle(\"Testing Dataset\")\n",
    "plt.show()\n",
    "plt.pie(df_test['Result'].value_counts(), labels = ['Negative', 'Positive', 'Neutral' ])\n",
    "plt.title(\"Testing Dataset\")\n",
    "plt.show()"
   ]
  },
  {
   "cell_type": "markdown",
   "id": "b93f269e",
   "metadata": {
    "papermill": {
     "duration": 0.028094,
     "end_time": "2023-02-06T14:52:08.505401",
     "exception": false,
     "start_time": "2023-02-06T14:52:08.477307",
     "status": "completed"
    },
    "tags": []
   },
   "source": [
    "We have more neutral values!"
   ]
  },
  {
   "cell_type": "code",
   "execution_count": 16,
   "id": "6066974c",
   "metadata": {
    "execution": {
     "iopub.execute_input": "2023-02-06T14:52:08.542149Z",
     "iopub.status.busy": "2023-02-06T14:52:08.541364Z",
     "iopub.status.idle": "2023-02-06T14:52:29.275095Z",
     "shell.execute_reply": "2023-02-06T14:52:29.273312Z"
    },
    "papermill": {
     "duration": 20.749975,
     "end_time": "2023-02-06T14:52:29.278618",
     "exception": false,
     "start_time": "2023-02-06T14:52:08.528643",
     "status": "completed"
    },
    "tags": []
   },
   "outputs": [
    {
     "name": "stderr",
     "output_type": "stream",
     "text": [
      "[nltk_data] Error loading stopwords: <urlopen error [Errno -3]\n",
      "[nltk_data]     Temporary failure in name resolution>\n"
     ]
    }
   ],
   "source": [
    "import nltk\n",
    "nltk.download(\"stopwords\")\n",
    "# nltk.download(\"PorterStemmer\")\n",
    "from nltk.corpus import stopwords\n",
    "from nltk.stem.porter import PorterStemmer\n",
    "stopwords.words('english')\n",
    "ps = PorterStemmer()\n",
    "import string"
   ]
  },
  {
   "cell_type": "code",
   "execution_count": 17,
   "id": "e241afc2",
   "metadata": {
    "execution": {
     "iopub.execute_input": "2023-02-06T14:52:29.306211Z",
     "iopub.status.busy": "2023-02-06T14:52:29.305762Z",
     "iopub.status.idle": "2023-02-06T14:52:29.312264Z",
     "shell.execute_reply": "2023-02-06T14:52:29.311246Z"
    },
    "papermill": {
     "duration": 0.022795,
     "end_time": "2023-02-06T14:52:29.314548",
     "exception": false,
     "start_time": "2023-02-06T14:52:29.291753",
     "status": "completed"
    },
    "tags": []
   },
   "outputs": [],
   "source": [
    "def preprocessing(text):\n",
    "  text = text.lower()\n",
    "  text = nltk.word_tokenize(text)\n",
    "  y = []\n",
    "  for i in text:\n",
    "      if i not in stopwords.words('english') and i not in string.punctuation and i.isalnum():\n",
    "          y.append(ps.stem(i))\n",
    "      \n",
    "  return \" \".join(y)"
   ]
  },
  {
   "cell_type": "code",
   "execution_count": 18,
   "id": "076bd2ea",
   "metadata": {
    "execution": {
     "iopub.execute_input": "2023-02-06T14:52:29.342603Z",
     "iopub.status.busy": "2023-02-06T14:52:29.341827Z",
     "iopub.status.idle": "2023-02-06T14:56:33.311356Z",
     "shell.execute_reply": "2023-02-06T14:56:33.310227Z"
    },
    "papermill": {
     "duration": 243.987156,
     "end_time": "2023-02-06T14:56:33.314360",
     "exception": false,
     "start_time": "2023-02-06T14:52:29.327204",
     "status": "completed"
    },
    "tags": []
   },
   "outputs": [],
   "source": [
    "# Apply the method to our dataset. \n",
    "\n",
    "df['Preprocessed'] = df['Tweets'].apply(preprocessing)\n",
    "df_test['Preprocessed'] = df_test['Tweets'].apply(preprocessing)"
   ]
  },
  {
   "cell_type": "code",
   "execution_count": 19,
   "id": "f80496c2",
   "metadata": {
    "execution": {
     "iopub.execute_input": "2023-02-06T14:56:33.340639Z",
     "iopub.status.busy": "2023-02-06T14:56:33.340152Z",
     "iopub.status.idle": "2023-02-06T14:56:33.662023Z",
     "shell.execute_reply": "2023-02-06T14:56:33.660649Z"
    },
    "papermill": {
     "duration": 0.338489,
     "end_time": "2023-02-06T14:56:33.665298",
     "exception": false,
     "start_time": "2023-02-06T14:56:33.326809",
     "status": "completed"
    },
    "tags": []
   },
   "outputs": [],
   "source": [
    "# Save the training dataframe to a CSV file\n",
    "df.to_csv(\"training_dataset_preprocessed.csv\", index=False)\n",
    "# Save the testing dataframe to a CSV file\n",
    "df_test.to_csv(\"testing_dataset_preprocessed.csv\", index=False)"
   ]
  },
  {
   "cell_type": "code",
   "execution_count": 20,
   "id": "cb73c033",
   "metadata": {
    "execution": {
     "iopub.execute_input": "2023-02-06T14:56:33.691035Z",
     "iopub.status.busy": "2023-02-06T14:56:33.690278Z",
     "iopub.status.idle": "2023-02-06T14:56:33.983295Z",
     "shell.execute_reply": "2023-02-06T14:56:33.982221Z"
    },
    "papermill": {
     "duration": 0.308671,
     "end_time": "2023-02-06T14:56:33.985996",
     "exception": false,
     "start_time": "2023-02-06T14:56:33.677325",
     "status": "completed"
    },
    "tags": []
   },
   "outputs": [],
   "source": [
    "# Load the new preprocessed dataset\n",
    "df_test_preprocessed = pd.read_csv('testing_dataset_preprocessed.csv').astype(str)\n",
    "df_train_preprocessed = pd.read_csv('training_dataset_preprocessed.csv').astype(str)"
   ]
  },
  {
   "cell_type": "code",
   "execution_count": 21,
   "id": "126e7290",
   "metadata": {
    "execution": {
     "iopub.execute_input": "2023-02-06T14:56:34.011397Z",
     "iopub.status.busy": "2023-02-06T14:56:34.010672Z",
     "iopub.status.idle": "2023-02-06T14:56:34.016066Z",
     "shell.execute_reply": "2023-02-06T14:56:34.015206Z"
    },
    "papermill": {
     "duration": 0.021056,
     "end_time": "2023-02-06T14:56:34.018493",
     "exception": false,
     "start_time": "2023-02-06T14:56:33.997437",
     "status": "completed"
    },
    "tags": []
   },
   "outputs": [],
   "source": [
    "from sklearn.feature_extraction.text import CountVectorizer, TfidfVectorizer\n",
    "cv = CountVectorizer()\n",
    "tfidf = TfidfVectorizer()"
   ]
  },
  {
   "cell_type": "code",
   "execution_count": 22,
   "id": "854eef36",
   "metadata": {
    "execution": {
     "iopub.execute_input": "2023-02-06T14:56:34.043894Z",
     "iopub.status.busy": "2023-02-06T14:56:34.043263Z",
     "iopub.status.idle": "2023-02-06T14:56:36.508764Z",
     "shell.execute_reply": "2023-02-06T14:56:36.507392Z"
    },
    "papermill": {
     "duration": 2.481732,
     "end_time": "2023-02-06T14:56:36.511536",
     "exception": false,
     "start_time": "2023-02-06T14:56:34.029804",
     "status": "completed"
    },
    "tags": []
   },
   "outputs": [
    {
     "data": {
      "text/plain": [
       "(61691, 19913)"
      ]
     },
     "execution_count": 22,
     "metadata": {},
     "output_type": "execute_result"
    }
   ],
   "source": [
    "X_Train = cv.fit_transform(df_train_preprocessed['Preprocessed']).toarray()\n",
    "X_Train.shape"
   ]
  },
  {
   "cell_type": "code",
   "execution_count": 23,
   "id": "ac0ba0a9",
   "metadata": {
    "execution": {
     "iopub.execute_input": "2023-02-06T14:56:36.536804Z",
     "iopub.status.busy": "2023-02-06T14:56:36.536371Z",
     "iopub.status.idle": "2023-02-06T14:56:36.543882Z",
     "shell.execute_reply": "2023-02-06T14:56:36.542677Z"
    },
    "papermill": {
     "duration": 0.022813,
     "end_time": "2023-02-06T14:56:36.546116",
     "exception": false,
     "start_time": "2023-02-06T14:56:36.523303",
     "status": "completed"
    },
    "tags": []
   },
   "outputs": [
    {
     "data": {
      "text/plain": [
       "(61691,)"
      ]
     },
     "execution_count": 23,
     "metadata": {},
     "output_type": "execute_result"
    }
   ],
   "source": [
    "Y_Train = df_train_preprocessed['Result'].values\n",
    "Y_Train.shape"
   ]
  },
  {
   "cell_type": "code",
   "execution_count": 24,
   "id": "422f5081",
   "metadata": {
    "execution": {
     "iopub.execute_input": "2023-02-06T14:56:36.571515Z",
     "iopub.status.busy": "2023-02-06T14:56:36.571083Z",
     "iopub.status.idle": "2023-02-06T14:56:36.616967Z",
     "shell.execute_reply": "2023-02-06T14:56:36.615558Z"
    },
    "papermill": {
     "duration": 0.061725,
     "end_time": "2023-02-06T14:56:36.619543",
     "exception": false,
     "start_time": "2023-02-06T14:56:36.557818",
     "status": "completed"
    },
    "tags": []
   },
   "outputs": [
    {
     "data": {
      "text/plain": [
       "(828, 19913)"
      ]
     },
     "execution_count": 24,
     "metadata": {},
     "output_type": "execute_result"
    }
   ],
   "source": [
    "X_Test = cv.transform(df_test_preprocessed['Preprocessed']).toarray()\n",
    "X_Test.shape"
   ]
  },
  {
   "cell_type": "code",
   "execution_count": 25,
   "id": "9562ac5a",
   "metadata": {
    "execution": {
     "iopub.execute_input": "2023-02-06T14:56:36.645549Z",
     "iopub.status.busy": "2023-02-06T14:56:36.645127Z",
     "iopub.status.idle": "2023-02-06T14:56:36.652515Z",
     "shell.execute_reply": "2023-02-06T14:56:36.651166Z"
    },
    "papermill": {
     "duration": 0.022995,
     "end_time": "2023-02-06T14:56:36.654906",
     "exception": false,
     "start_time": "2023-02-06T14:56:36.631911",
     "status": "completed"
    },
    "tags": []
   },
   "outputs": [
    {
     "data": {
      "text/plain": [
       "(828,)"
      ]
     },
     "execution_count": 25,
     "metadata": {},
     "output_type": "execute_result"
    }
   ],
   "source": [
    "Y_Test = df_test_preprocessed['Result'].values\n",
    "Y_Test.shape"
   ]
  },
  {
   "cell_type": "code",
   "execution_count": 26,
   "id": "e4d8b9a8",
   "metadata": {
    "execution": {
     "iopub.execute_input": "2023-02-06T14:56:36.681959Z",
     "iopub.status.busy": "2023-02-06T14:56:36.681518Z",
     "iopub.status.idle": "2023-02-06T14:56:36.686731Z",
     "shell.execute_reply": "2023-02-06T14:56:36.685573Z"
    },
    "papermill": {
     "duration": 0.021006,
     "end_time": "2023-02-06T14:56:36.688922",
     "exception": false,
     "start_time": "2023-02-06T14:56:36.667916",
     "status": "completed"
    },
    "tags": []
   },
   "outputs": [],
   "source": [
    "Model = [\"Logistic\", \"Gaussian\", \"Multinomial\", \"Bernoullis\"]\n",
    "Accuracy = []\n",
    "Precision = []"
   ]
  },
  {
   "cell_type": "code",
   "execution_count": 27,
   "id": "9228257f",
   "metadata": {
    "execution": {
     "iopub.execute_input": "2023-02-06T14:56:36.715576Z",
     "iopub.status.busy": "2023-02-06T14:56:36.715169Z",
     "iopub.status.idle": "2023-02-06T15:02:21.725497Z",
     "shell.execute_reply": "2023-02-06T15:02:21.723818Z"
    },
    "papermill": {
     "duration": 345.061545,
     "end_time": "2023-02-06T15:02:21.763035",
     "exception": false,
     "start_time": "2023-02-06T14:56:36.701490",
     "status": "completed"
    },
    "tags": []
   },
   "outputs": [
    {
     "name": "stdout",
     "output_type": "stream",
     "text": [
      "Model Fitting Starting..\n",
      "Fitting Done. Now predicting...\n",
      "Completed :)\n"
     ]
    },
    {
     "name": "stderr",
     "output_type": "stream",
     "text": [
      "/opt/conda/lib/python3.7/site-packages/sklearn/linear_model/_logistic.py:818: ConvergenceWarning: lbfgs failed to converge (status=1):\n",
      "STOP: TOTAL NO. of ITERATIONS REACHED LIMIT.\n",
      "\n",
      "Increase the number of iterations (max_iter) or scale the data as shown in:\n",
      "    https://scikit-learn.org/stable/modules/preprocessing.html\n",
      "Please also refer to the documentation for alternative solver options:\n",
      "    https://scikit-learn.org/stable/modules/linear_model.html#logistic-regression\n",
      "  extra_warning_msg=_LOGISTIC_SOLVER_CONVERGENCE_MSG,\n"
     ]
    }
   ],
   "source": [
    "from sklearn.linear_model import LogisticRegression\n",
    "\n",
    "print(\"Model Fitting Starting..\")\n",
    "# Create an instance of the LogisticRegression model\n",
    "logistic_regression = LogisticRegression()\n",
    "\n",
    "# Fit the logistic regression model to your training data\n",
    "logistic_regression.fit(X_Train, Y_Train)\n",
    "print(\"Fitting Done. Now predicting...\")\n",
    "# Predict the sentiment on your test data\n",
    "y_pred = logistic_regression.predict(X_Test)\n",
    "print(\"Completed :)\")"
   ]
  },
  {
   "cell_type": "code",
   "execution_count": 28,
   "id": "5c6ba3cc",
   "metadata": {
    "execution": {
     "iopub.execute_input": "2023-02-06T15:02:21.828103Z",
     "iopub.status.busy": "2023-02-06T15:02:21.827381Z",
     "iopub.status.idle": "2023-02-06T15:02:21.858355Z",
     "shell.execute_reply": "2023-02-06T15:02:21.857308Z"
    },
    "papermill": {
     "duration": 0.066895,
     "end_time": "2023-02-06T15:02:21.860885",
     "exception": false,
     "start_time": "2023-02-06T15:02:21.793990",
     "status": "completed"
    },
    "tags": []
   },
   "outputs": [
    {
     "name": "stdout",
     "output_type": "stream",
     "text": [
      "Calculations Starting..\n",
      "Accuracy Calculated!\n",
      "Precision Calculated!\n",
      "Recall Calculated!\n",
      "Finally, F1 Calculated!\n",
      "Accuracy: 0.928743961352657\n",
      "Precision: 0.9286478789940057\n",
      "Recall: 0.9290174895723062\n",
      "F1 Score: 0.928663418471572\n"
     ]
    }
   ],
   "source": [
    "from sklearn.metrics import accuracy_score, precision_score, recall_score, f1_score\n",
    "\n",
    "print(\"Calculations Starting..\")\n",
    "# Calculate accuracy\n",
    "accuracy = accuracy_score(Y_Test, y_pred)\n",
    "print(\"Accuracy Calculated!\")\n",
    "Accuracy.append(accuracy)\n",
    "# Calculate precision\n",
    "precision = precision_score(Y_Test, y_pred, average='macro')\n",
    "print(\"Precision Calculated!\")\n",
    "Precision.append(precision)\n",
    "# Calculate recall\n",
    "recall = recall_score(Y_Test, y_pred, average='macro')\n",
    "print(\"Recall Calculated!\")\n",
    "# Calculate F1 score\n",
    "f1 = f1_score(Y_Test, y_pred, average='macro')\n",
    "print(\"Finally, F1 Calculated!\")\n",
    "\n",
    "# Print results\n",
    "print(\"Accuracy:\", accuracy)\n",
    "print(\"Precision:\", precision)\n",
    "print(\"Recall:\", recall)\n",
    "print(\"F1 Score:\", f1)"
   ]
  },
  {
   "cell_type": "raw",
   "id": "d8ae61fe",
   "metadata": {
    "papermill": {
     "duration": 0.012017,
     "end_time": "2023-02-06T15:02:21.885676",
     "exception": false,
     "start_time": "2023-02-06T15:02:21.873659",
     "status": "completed"
    },
    "tags": []
   },
   "source": [
    "Logistic Regression Stats\n",
    "\n",
    "Accuracy: 0.928743961352657\n",
    "Precision: 0.9286478789940057\n",
    "Recall: 0.9290174895723062\n",
    "F1 Score: 0.928663418471572\n",
    "\n",
    "\n"
   ]
  },
  {
   "cell_type": "code",
   "execution_count": 29,
   "id": "7437f17a",
   "metadata": {
    "execution": {
     "iopub.execute_input": "2023-02-06T15:02:21.913620Z",
     "iopub.status.busy": "2023-02-06T15:02:21.912895Z",
     "iopub.status.idle": "2023-02-06T15:02:21.921259Z",
     "shell.execute_reply": "2023-02-06T15:02:21.920073Z"
    },
    "papermill": {
     "duration": 0.025929,
     "end_time": "2023-02-06T15:02:21.923889",
     "exception": false,
     "start_time": "2023-02-06T15:02:21.897960",
     "status": "completed"
    },
    "tags": []
   },
   "outputs": [],
   "source": [
    "from sklearn.naive_bayes import GaussianNB, MultinomialNB, BernoulliNB\n",
    "from sklearn.metrics import accuracy_score,precision_score  \n",
    "gnb = GaussianNB()\n",
    "mnb = MultinomialNB()\n",
    "bnb = BernoulliNB()"
   ]
  },
  {
   "cell_type": "code",
   "execution_count": 30,
   "id": "b42f18ca",
   "metadata": {
    "execution": {
     "iopub.execute_input": "2023-02-06T15:02:21.951308Z",
     "iopub.status.busy": "2023-02-06T15:02:21.950447Z",
     "iopub.status.idle": "2023-02-06T15:02:51.788180Z",
     "shell.execute_reply": "2023-02-06T15:02:51.786825Z"
    },
    "papermill": {
     "duration": 29.854531,
     "end_time": "2023-02-06T15:02:51.790926",
     "exception": false,
     "start_time": "2023-02-06T15:02:21.936395",
     "status": "completed"
    },
    "tags": []
   },
   "outputs": [
    {
     "name": "stdout",
     "output_type": "stream",
     "text": [
      "Fitting into Gaussian\n",
      "Fitting Done. Now predicting...\n",
      "0.6859903381642513\n",
      "0.6859903381642513\n"
     ]
    }
   ],
   "source": [
    "# Gaussian\n",
    "\n",
    "print(\"Fitting into Gaussian\")\n",
    "gnb.fit(X_Train, Y_Train)\n",
    "print(\"Fitting Done. Now predicting...\")\n",
    "pred1 = gnb.predict(X_Test)\n",
    "print(accuracy_score(Y_Test, pred1))\n",
    "print(precision_score(Y_Test, pred1, average='micro'))\n",
    "\n",
    "Accuracy.append(accuracy_score(Y_Test, pred1))\n",
    "Precision.append(precision_score(Y_Test, pred1, average='micro'))"
   ]
  },
  {
   "cell_type": "code",
   "execution_count": 31,
   "id": "22e4293f",
   "metadata": {
    "execution": {
     "iopub.execute_input": "2023-02-06T15:02:51.818763Z",
     "iopub.status.busy": "2023-02-06T15:02:51.818295Z",
     "iopub.status.idle": "2023-02-06T15:04:44.012933Z",
     "shell.execute_reply": "2023-02-06T15:04:44.011274Z"
    },
    "papermill": {
     "duration": 112.250474,
     "end_time": "2023-02-06T15:04:44.054305",
     "exception": false,
     "start_time": "2023-02-06T15:02:51.803831",
     "status": "completed"
    },
    "scrolled": true,
    "tags": []
   },
   "outputs": [
    {
     "name": "stdout",
     "output_type": "stream",
     "text": [
      "Fitting into Multinomial\n",
      "Fitting Done. Now predicting...\n",
      "0.7995169082125604\n",
      "0.7995169082125604\n"
     ]
    }
   ],
   "source": [
    "# Multinomial\n",
    "\n",
    "print(\"Fitting into Multinomial\")\n",
    "mnb.fit(X_Train, Y_Train)\n",
    "print(\"Fitting Done. Now predicting...\")\n",
    "pred2 = mnb.predict(X_Test)\n",
    "print(accuracy_score(Y_Test, pred2))\n",
    "print(precision_score(Y_Test, pred2, average='micro'))\n",
    "Accuracy.append(accuracy_score(Y_Test, pred2))\n",
    "Precision.append(precision_score(Y_Test, pred2,average='micro'))"
   ]
  },
  {
   "cell_type": "code",
   "execution_count": 32,
   "id": "ed2c9a53",
   "metadata": {
    "execution": {
     "iopub.execute_input": "2023-02-06T15:04:44.110301Z",
     "iopub.status.busy": "2023-02-06T15:04:44.109759Z",
     "iopub.status.idle": "2023-02-06T15:05:29.162758Z",
     "shell.execute_reply": "2023-02-06T15:05:29.158475Z"
    },
    "papermill": {
     "duration": 45.076295,
     "end_time": "2023-02-06T15:05:29.167248",
     "exception": false,
     "start_time": "2023-02-06T15:04:44.090953",
     "status": "completed"
    },
    "tags": []
   },
   "outputs": [
    {
     "name": "stdout",
     "output_type": "stream",
     "text": [
      "Fitting into Binomial\n",
      "Fitting Done. Now predicting...\n",
      "0.7958937198067633\n",
      "0.7958937198067633\n"
     ]
    }
   ],
   "source": [
    "# Binomial\n",
    "\n",
    "print(\"Fitting into Binomial\")\n",
    "bnb.fit(X_Train, Y_Train)\n",
    "print(\"Fitting Done. Now predicting...\")\n",
    "pred3 = bnb.predict(X_Test)\n",
    "print(accuracy_score(Y_Test, pred3))\n",
    "print(precision_score(Y_Test, pred3, average='micro'))\n",
    "Accuracy.append(accuracy_score(Y_Test, pred3))\n",
    "Precision.append(precision_score(Y_Test, pred3, average='micro'))"
   ]
  },
  {
   "cell_type": "code",
   "execution_count": 33,
   "id": "ea3b2919",
   "metadata": {
    "execution": {
     "iopub.execute_input": "2023-02-06T15:05:29.219615Z",
     "iopub.status.busy": "2023-02-06T15:05:29.219098Z",
     "iopub.status.idle": "2023-02-06T15:05:29.226192Z",
     "shell.execute_reply": "2023-02-06T15:05:29.225085Z"
    },
    "papermill": {
     "duration": 0.027139,
     "end_time": "2023-02-06T15:05:29.228539",
     "exception": false,
     "start_time": "2023-02-06T15:05:29.201400",
     "status": "completed"
    },
    "tags": []
   },
   "outputs": [
    {
     "name": "stdout",
     "output_type": "stream",
     "text": [
      "[0.928743961352657, 0.6859903381642513, 0.7995169082125604, 0.7958937198067633]\n",
      "[0.9286478789940057, 0.6859903381642513, 0.7995169082125604, 0.7958937198067633]\n"
     ]
    }
   ],
   "source": [
    "print(Accuracy)\n",
    "print(Precision)"
   ]
  },
  {
   "cell_type": "markdown",
   "id": "8328bd5c",
   "metadata": {
    "papermill": {
     "duration": 0.012967,
     "end_time": "2023-02-06T15:05:29.254936",
     "exception": false,
     "start_time": "2023-02-06T15:05:29.241969",
     "status": "completed"
    },
    "tags": []
   },
   "source": [
    "We will go with Logistic regresison because, it has better stats than other 3."
   ]
  }
 ],
 "metadata": {
  "kernelspec": {
   "display_name": "Python 3",
   "language": "python",
   "name": "python3"
  },
  "language_info": {
   "codemirror_mode": {
    "name": "ipython",
    "version": 3
   },
   "file_extension": ".py",
   "mimetype": "text/x-python",
   "name": "python",
   "nbconvert_exporter": "python",
   "pygments_lexer": "ipython3",
   "version": "3.7.12"
  },
  "papermill": {
   "default_parameters": {},
   "duration": 847.854998,
   "end_time": "2023-02-06T15:05:30.600518",
   "environment_variables": {},
   "exception": null,
   "input_path": "__notebook__.ipynb",
   "output_path": "__notebook__.ipynb",
   "parameters": {},
   "start_time": "2023-02-06T14:51:22.745520",
   "version": "2.3.4"
  }
 },
 "nbformat": 4,
 "nbformat_minor": 5
}
